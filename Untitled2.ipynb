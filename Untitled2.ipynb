{
 "cells": [
  {
   "cell_type": "markdown",
   "id": "2de35e99-b571-497f-87f6-36641ec58c5e",
   "metadata": {},
   "source": [
    "#this is for my assignment"
   ]
  },
  {
   "cell_type": "code",
   "execution_count": 1,
   "id": "c226cf3c-088c-4baf-8723-8baeca46a0df",
   "metadata": {},
   "outputs": [
    {
     "data": {
      "text/plain": [
       "['Mercedes', 'BMW', 'Mazda', 'Toyota']"
      ]
     },
     "execution_count": 1,
     "metadata": {},
     "output_type": "execute_result"
    }
   ],
   "source": [
    "cars=['Mercedes','BMW','Mazda','Toyota']\n",
    "cars"
   ]
  },
  {
   "cell_type": "code",
   "execution_count": 4,
   "id": "e274a13f-ef91-4ce6-b7d1-50ea0c66cf90",
   "metadata": {},
   "outputs": [
    {
     "data": {
      "text/plain": [
       "['C-Class', '3 series', 'Axela', 'Hilux']"
      ]
     },
     "execution_count": 4,
     "metadata": {},
     "output_type": "execute_result"
    }
   ],
   "source": [
    "models=['C-Class','3 series','Axela','Hilux']\n",
    "models"
   ]
  },
  {
   "cell_type": "code",
   "execution_count": 5,
   "id": "3f273322-d857-4de8-98ab-4561e10f0107",
   "metadata": {},
   "outputs": [
    {
     "data": {
      "text/plain": [
       "False"
      ]
     },
     "execution_count": 5,
     "metadata": {},
     "output_type": "execute_result"
    }
   ],
   "source": [
    "cars==models"
   ]
  },
  {
   "cell_type": "code",
   "execution_count": 6,
   "id": "5708210c-0438-46bd-88c0-30bba622733f",
   "metadata": {},
   "outputs": [],
   "source": [
    "cars.append(models)"
   ]
  },
  {
   "cell_type": "code",
   "execution_count": 7,
   "id": "d4eb2f83-d5f4-463b-a50e-8c7f369da46c",
   "metadata": {},
   "outputs": [
    {
     "name": "stdout",
     "output_type": "stream",
     "text": [
      "['Mercedes', 'BMW', 'Mazda', 'Toyota', ['C-Class', '3 series', 'Axela', 'Hilux']]\n"
     ]
    }
   ],
   "source": [
    "print(cars)"
   ]
  },
  {
   "cell_type": "code",
   "execution_count": 12,
   "id": "80f4f7b1-bc3a-4438-b2fe-e8f3f517c403",
   "metadata": {},
   "outputs": [
    {
     "data": {
      "text/plain": [
       "5"
      ]
     },
     "execution_count": 12,
     "metadata": {},
     "output_type": "execute_result"
    }
   ],
   "source": [
    "len(cars)"
   ]
  },
  {
   "cell_type": "markdown",
   "id": "900840b8-5566-4074-a474-659e546f79d2",
   "metadata": {},
   "source": [
    "#Data Science Tools and Ecosystem"
   ]
  },
  {
   "cell_type": "code",
   "execution_count": 37,
   "id": "d081d71c-4bcb-472c-8cc0-2bba0a2d3875",
   "metadata": {},
   "outputs": [
    {
     "data": {
      "text/plain": [
       "[1, 2, 6, 9, 23, 76, 90]"
      ]
     },
     "execution_count": 37,
     "metadata": {},
     "output_type": "execute_result"
    }
   ],
   "source": [
    "sorted([1,2,6,9,23,76,90])"
   ]
  },
  {
   "cell_type": "code",
   "execution_count": 5,
   "id": "2709815b-9ad6-411f-96f6-17c06fbdbbdf",
   "metadata": {},
   "outputs": [
    {
     "data": {
      "text/plain": [
       "[7, 47, 23, 120, 56, 79, 97, 100]"
      ]
     },
     "execution_count": 5,
     "metadata": {},
     "output_type": "execute_result"
    }
   ],
   "source": [
    "numbers=[7,47,23,120,56,79,97,100]\n",
    "numbers"
   ]
  },
  {
   "cell_type": "code",
   "execution_count": 9,
   "id": "6f032746-5851-42e3-a252-451cba1c0303",
   "metadata": {},
   "outputs": [],
   "source": [
    "numbers.sort()"
   ]
  },
  {
   "cell_type": "code",
   "execution_count": 10,
   "id": "ac8f6853-439e-462e-990a-a03f93a55c7e",
   "metadata": {},
   "outputs": [
    {
     "name": "stdout",
     "output_type": "stream",
     "text": [
      "[7, 23, 47, 56, 79, 97, 100, 120]\n"
     ]
    }
   ],
   "source": [
    "print(numbers)"
   ]
  },
  {
   "cell_type": "code",
   "execution_count": 11,
   "id": "9a38fefa-edaf-46e8-9c07-1fe86597a255",
   "metadata": {},
   "outputs": [
    {
     "name": "stdout",
     "output_type": "stream",
     "text": [
      "[120, 100, 97, 79, 56, 47, 23, 7]\n"
     ]
    }
   ],
   "source": [
    "numbers.sort(reverse=True)\n",
    "print(numbers)"
   ]
  },
  {
   "cell_type": "markdown",
   "id": "66e7bebc-080b-45fe-b0d8-d819d3e939fc",
   "metadata": {},
   "source": [
    "#some of the commonly used libraries by Data Scientists include:"
   ]
  },
  {
   "cell_type": "code",
   "execution_count": null,
   "id": "3af081cb-a8cd-43a1-b893-80c34bfbc490",
   "metadata": {},
   "outputs": [],
   "source": [
    "###H3 Below are a few example of evaluating arithmetic expressions in Python"
   ]
  },
  {
   "cell_type": "code",
   "execution_count": null,
   "id": "a7bb600e-a86b-4746-bac1-9b6aa7d1b77f",
   "metadata": {},
   "outputs": [],
   "source": [
    "a=(3*4)+5\n",
    "a"
   ]
  },
  {
   "cell_type": "code",
   "execution_count": null,
   "id": "7b39e00f-268f-4b35-8fdf-9ad7084f4451",
   "metadata": {
    "jupyter": {
     "source_hidden": true
    }
   },
   "outputs": [],
   "source": [
    "print(a)"
   ]
  },
  {
   "cell_type": "code",
   "execution_count": null,
   "id": "96c4cfa9-3bad-4442-97d8-701be825de2c",
   "metadata": {
    "jupyter": {
     "source_hidden": true
    }
   },
   "outputs": [],
   "source": []
  }
 ],
 "metadata": {
  "kernelspec": {
   "display_name": "Python 3 (ipykernel)",
   "language": "python",
   "name": "python3"
  },
  "language_info": {
   "codemirror_mode": {
    "name": "ipython",
    "version": 3
   },
   "file_extension": ".py",
   "mimetype": "text/x-python",
   "name": "python",
   "nbconvert_exporter": "python",
   "pygments_lexer": "ipython3",
   "version": "3.11.9"
  }
 },
 "nbformat": 4,
 "nbformat_minor": 5
}
