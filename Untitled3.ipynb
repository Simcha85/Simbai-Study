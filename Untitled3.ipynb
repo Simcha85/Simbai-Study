{
 "cells": [
  {
   "cell_type": "code",
   "execution_count": 1,
   "id": "b2de3f8b-a352-41ba-8096-89ba5dc4e6c7",
   "metadata": {},
   "outputs": [],
   "source": [
    "###H3 this is examples of arithmetic expressions"
   ]
  },
  {
   "cell_type": "code",
   "execution_count": 3,
   "id": "8b3f58c0-0790-4fb5-b2ee-cb7d0a44d7f0",
   "metadata": {},
   "outputs": [
    {
     "data": {
      "text/plain": [
       "17"
      ]
     },
     "execution_count": 3,
     "metadata": {},
     "output_type": "execute_result"
    }
   ],
   "source": [
    "(3*4)+5\n",
    "#this is a simple expression to multiply then add integers"
   ]
  },
  {
   "cell_type": "code",
   "execution_count": 5,
   "id": "65fd4976-b730-4f4e-8f54-b1a593be4fc6",
   "metadata": {},
   "outputs": [
    {
     "data": {
      "text/plain": [
       "200"
      ]
     },
     "execution_count": 5,
     "metadata": {},
     "output_type": "execute_result"
    }
   ],
   "source": [
    "minutes=200\n",
    "minutes"
   ]
  },
  {
   "cell_type": "code",
   "execution_count": 6,
   "id": "3f5a8b61-4ae1-4561-b14b-70fe37d5b7e3",
   "metadata": {},
   "outputs": [
    {
     "data": {
      "text/plain": [
       "3.3333333333333335"
      ]
     },
     "execution_count": 6,
     "metadata": {},
     "output_type": "execute_result"
    }
   ],
   "source": [
    "hours=minutes/60\n",
    "hours"
   ]
  },
  {
   "cell_type": "markdown",
   "id": "ec2d31fd-733a-45fb-80f3-cda5dc5fcf62",
   "metadata": {
    "editable": true,
    "slideshow": {
     "slide_type": ""
    },
    "tags": []
   },
   "source": [
    "OBJECTIVES"
   ]
  },
  {
   "cell_type": "code",
   "execution_count": 4,
   "id": "10e20231-5c27-4509-ad6e-66373d199747",
   "metadata": {},
   "outputs": [],
   "source": [
    "languages=['Python','Java','C++','R','Scala']"
   ]
  },
  {
   "cell_type": "code",
   "execution_count": 8,
   "id": "4861472a-0319-4e3f-a25f-97144f645b06",
   "metadata": {},
   "outputs": [
    {
     "name": "stdout",
     "output_type": "stream",
     "text": [
      "['Python', 'Java', 'C++', 'R', 'Scala']\n"
     ]
    }
   ],
   "source": [
    "print(languages)"
   ]
  },
  {
   "cell_type": "code",
   "execution_count": 14,
   "id": "d2eba278-8449-4ea1-a15d-d9f4f3929f2c",
   "metadata": {},
   "outputs": [
    {
     "data": {
      "text/plain": [
       "['Python', 'Java', 'C++', 'R', 'Scala']"
      ]
     },
     "execution_count": 14,
     "metadata": {},
     "output_type": "execute_result"
    }
   ],
   "source": [
    "list(languages)"
   ]
  },
  {
   "cell_type": "markdown",
   "id": "72f98998-6f50-45dc-b8d7-6d8a39c1b664",
   "metadata": {},
   "source": [
    "# Execute this cell as markdown\n",
    "**data science tools**"
   ]
  },
  {
   "cell_type": "markdown",
   "id": "69cca16a-12ce-4fc1-b605-f6d05472fc27",
   "metadata": {},
   "source": [
    "# Execute this celll as markdown\n",
    "|Data Science Tools|\n",
    "|-----------------|\n",
    "|Jupyter Lab|\n",
    "|Jupyter Notebook|\n",
    "|R Studio|"
   ]
  },
  {
   "cell_type": "code",
   "execution_count": 15,
   "id": "fd8dbfd1-7be4-4be8-a52b-e34fa695925a",
   "metadata": {},
   "outputs": [
    {
     "data": {
      "text/plain": [
       "17"
      ]
     },
     "execution_count": 15,
     "metadata": {},
     "output_type": "execute_result"
    }
   ],
   "source": [
    "# this is a simple arithmetic expression  to multiply then add integers\n",
    "(3*4)+5"
   ]
  },
  {
   "cell_type": "markdown",
   "id": "2c58730e-d2a2-488c-a33a-ada83cf4ff55",
   "metadata": {},
   "source": [
    "# Execute this cell as markdown\n",
    "## H2: this is a level 2 heading\n",
    "## Objectives\n",
    "* exploring open source tools\n",
    "* languages for programming\n",
    "* tables\n",
    "  "
   ]
  },
  {
   "cell_type": "markdown",
   "id": "c4c660f9-0d2a-40f4-beca-b51a346321f2",
   "metadata": {},
   "source": [
    "# Execute this cell as markdown\n",
    "## Author: Simbai Manyumwa"
   ]
  },
  {
   "cell_type": "code",
   "execution_count": null,
   "id": "d9222bc4-ea28-498e-9d16-990a40508ec9",
   "metadata": {},
   "outputs": [],
   "source": []
  }
 ],
 "metadata": {
  "kernelspec": {
   "display_name": "Python 3 (ipykernel)",
   "language": "python",
   "name": "python3"
  },
  "language_info": {
   "codemirror_mode": {
    "name": "ipython",
    "version": 3
   },
   "file_extension": ".py",
   "mimetype": "text/x-python",
   "name": "python",
   "nbconvert_exporter": "python",
   "pygments_lexer": "ipython3",
   "version": "3.11.9"
  }
 },
 "nbformat": 4,
 "nbformat_minor": 5
}
